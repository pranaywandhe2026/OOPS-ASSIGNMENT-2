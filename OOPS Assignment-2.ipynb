{
 "cells": [
  {
   "cell_type": "code",
   "execution_count": 1,
   "metadata": {},
   "outputs": [],
   "source": [
    "# q1\n",
    "# abstraction is a process to create a blueprint for other classes to implement\n",
    "import abc\n",
    "\n",
    "class pwskills:\n",
    "\n",
    "    @abc.abstractmethod\n",
    "    def student_details(self):\n",
    "        pass\n",
    "    \n",
    "    @abc.abstractmethod    \n",
    "    def student_marks(self):\n",
    "        pass"
   ]
  },
  {
   "cell_type": "code",
   "execution_count": 2,
   "metadata": {},
   "outputs": [],
   "source": [
    "class datascience(pwskills):\n",
    "\n",
    "    def student_details(self):\n",
    "        return \"this will return details of data science students\"\n",
    "    \n",
    "    def student_marks(self):\n",
    "        return \"this will return marks of students\""
   ]
  },
  {
   "cell_type": "code",
   "execution_count": 4,
   "metadata": {},
   "outputs": [
    {
     "data": {
      "text/plain": [
       "'this will return marks of students'"
      ]
     },
     "execution_count": 4,
     "metadata": {},
     "output_type": "execute_result"
    }
   ],
   "source": [
    "ds=datascience()\n",
    "ds.student_details()\n",
    "ds.student_marks()"
   ]
  },
  {
   "cell_type": "code",
   "execution_count": 5,
   "metadata": {},
   "outputs": [],
   "source": [
    "# q2\n",
    "# encapuslation is to wrap the data and code in a single unit and make it accesible\n",
    "# through specific functions like getters and setter\n",
    "# abstraction is used to hide the internal functionalities of a class \n",
    "# by making variables private\n",
    "# In general,abstraction is achieved through encapsulation\n",
    "\n",
    "class pwskills:\n",
    "\n",
    "    def __init__ (self,name_of_student):\n",
    "        self.__name_of_student=name_of_student\n",
    "\n",
    "    def get_name(self):\n",
    "        return self.__name_of_student"
   ]
  },
  {
   "cell_type": "code",
   "execution_count": 9,
   "metadata": {},
   "outputs": [
    {
     "data": {
      "text/plain": [
       "'rohan'"
      ]
     },
     "execution_count": 9,
     "metadata": {},
     "output_type": "execute_result"
    }
   ],
   "source": [
    "pw=pwskills(\"rohan\")\n",
    "pw.get_name()\n"
   ]
  },
  {
   "cell_type": "code",
   "execution_count": null,
   "metadata": {},
   "outputs": [],
   "source": [
    "# q3\n",
    "# abc is a module in python used to create abstract method or\n",
    "# a blueprint to create to access some functions by inheriting\n",
    "# it in another class"
   ]
  },
  {
   "cell_type": "code",
   "execution_count": 10,
   "metadata": {},
   "outputs": [],
   "source": [
    "# q4\n",
    "# data abstraction can be achieved through encapulation\n",
    "class pwskills:\n",
    "\n",
    "    def __init__ (self,name_of_student):\n",
    "        self.__name_of_student=name_of_student\n",
    "\n",
    "    def get_name(self):\n",
    "        return self.__name_of_student"
   ]
  },
  {
   "cell_type": "code",
   "execution_count": 11,
   "metadata": {},
   "outputs": [
    {
     "data": {
      "text/plain": [
       "'rohan'"
      ]
     },
     "execution_count": 11,
     "metadata": {},
     "output_type": "execute_result"
    }
   ],
   "source": [
    "pw=pwskills(\"rohan\")\n",
    "pw.get_name()"
   ]
  },
  {
   "cell_type": "code",
   "execution_count": 12,
   "metadata": {},
   "outputs": [],
   "source": [
    "# q5\n",
    "# we cannot create object of an abstract class but we can \n",
    "# make definition of that abstract methods by inheriting it in \n",
    "# other class\n",
    "import abc\n",
    "\n",
    "class pwskills:\n",
    "\n",
    "    @abc.abstractclassmethod\n",
    "    def student_name(self,name):\n",
    "        pass\n"
   ]
  },
  {
   "cell_type": "code",
   "execution_count": 13,
   "metadata": {},
   "outputs": [],
   "source": [
    "class datascience(pwskills):\n",
    "\n",
    "    def student_name(self,name):\n",
    "        print(name)"
   ]
  },
  {
   "cell_type": "code",
   "execution_count": 15,
   "metadata": {},
   "outputs": [
    {
     "name": "stdout",
     "output_type": "stream",
     "text": [
      "rohan\n"
     ]
    }
   ],
   "source": [
    "ds=datascience()\n",
    "ds.student_name(\"rohan\")"
   ]
  },
  {
   "cell_type": "code",
   "execution_count": null,
   "metadata": {},
   "outputs": [],
   "source": []
  },
  {
   "cell_type": "code",
   "execution_count": null,
   "metadata": {},
   "outputs": [],
   "source": []
  },
  {
   "cell_type": "code",
   "execution_count": null,
   "metadata": {},
   "outputs": [],
   "source": []
  },
  {
   "cell_type": "code",
   "execution_count": null,
   "metadata": {},
   "outputs": [],
   "source": []
  },
  {
   "cell_type": "code",
   "execution_count": null,
   "metadata": {},
   "outputs": [],
   "source": []
  },
  {
   "cell_type": "code",
   "execution_count": null,
   "metadata": {},
   "outputs": [],
   "source": []
  },
  {
   "cell_type": "code",
   "execution_count": null,
   "metadata": {},
   "outputs": [],
   "source": []
  },
  {
   "cell_type": "code",
   "execution_count": null,
   "metadata": {},
   "outputs": [],
   "source": []
  }
 ],
 "metadata": {
  "kernelspec": {
   "display_name": "myvenv",
   "language": "python",
   "name": "python3"
  },
  "language_info": {
   "codemirror_mode": {
    "name": "ipython",
    "version": 3
   },
   "file_extension": ".py",
   "mimetype": "text/x-python",
   "name": "python",
   "nbconvert_exporter": "python",
   "pygments_lexer": "ipython3",
   "version": "3.11.4"
  },
  "orig_nbformat": 4
 },
 "nbformat": 4,
 "nbformat_minor": 2
}
